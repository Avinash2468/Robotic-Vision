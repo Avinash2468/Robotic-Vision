{
 "cells": [
  {
   "cell_type": "code",
   "execution_count": 1,
   "metadata": {},
   "outputs": [],
   "source": [
    "import numpy as np \n",
    "import os\n",
    "from os import listdir\n",
    "from os.path import isfile, join\n",
    "import open3d as o3d\n",
    "\n",
    "from utils import readData,readPointCloud"
   ]
  },
  {
   "cell_type": "code",
   "execution_count": 2,
   "metadata": {},
   "outputs": [],
   "source": [
    "## Reading the Transformation Matrix\n",
    "global_trans = readData(\"../../Data/dataset/01.txt\") # Returns a 2D array with each row as the global poses at a \n",
    "                                            # given timestamp from the video camera's frame.\n",
    "\n",
    "## Reading the PCDs\n",
    "mypath='../../Data/dataset/01/'\n",
    "\n",
    "onlyfiles = [f for f in listdir(mypath) if isfile(join(mypath, f))]\n",
    "onlyfiles=sorted(onlyfiles)\n",
    "\n",
    "read_pc = []\n",
    "\n",
    "for f in onlyfiles: # Interating through the 77 bin files \n",
    "    temp= readPointCloud(mypath+f)\n",
    "    x = np.ones(temp.shape[0])\n",
    "    temp[:,3] = x # Replacing the reflectance values with 1 as they are not needed.\n",
    "    temp1=temp.T\n",
    "    read_pc.append(temp1) # Storing all the point clouds in a list\n"
   ]
  },
  {
   "cell_type": "code",
   "execution_count": 3,
   "metadata": {},
   "outputs": [],
   "source": [
    "## Lidar to  Camera Transformation\n",
    " \n",
    "\"\"\"\n",
    "\n",
    "The reasoning for the values in the transformation matrices below is given in the report.\n",
    "\n",
    "\"\"\"\n",
    "cam_trans = np.array([[0,-1,0,0],[0,0,-1,0],[1,0,0,0],[0,0,0,1]]) \n",
    "back_trans = np.array([[0,0,1],[-1,0,0],[0,-1,0]])\n",
    "\n",
    "## Final set of points\n",
    "\n",
    "final=[]\n",
    "\n",
    "for i in range(77): #iterating through all the point clouds\n",
    "    final.append(back_trans@(np.resize(global_trans[i],(3,4))@cam_trans@read_pc[i])) # Stroring the point clouds in a \n",
    "                                                                                     # after applying the required\n",
    "                                                                                     # transformations\n",
    "\n",
    "##----------- End------- ##"
   ]
  },
  {
   "cell_type": "code",
   "execution_count": 4,
   "metadata": {},
   "outputs": [],
   "source": [
    "## Forming the Point clouds in Open 3d using list 'final'\n",
    "\n",
    "plot = final[0].T \n",
    "\n",
    "for i in range(76):\n",
    "    plot = np.vstack((plot,final[i+1].T)) # Stacking as rows to display the pcd."
   ]
  },
  {
   "cell_type": "code",
   "execution_count": 5,
   "metadata": {},
   "outputs": [
    {
     "data": {
      "text/plain": [
       "True"
      ]
     },
     "execution_count": 5,
     "metadata": {},
     "output_type": "execute_result"
    }
   ],
   "source": [
    "# Displaying the point cloud\n",
    "\n",
    "pcd = o3d.geometry.PointCloud()\n",
    "\n",
    "for i in range(76):\n",
    "    pcd1 = o3d.geometry.PointCloud()\n",
    "    pcd1.points = o3d.utility.Vector3dVector(final[i].T)\n",
    "    downpcd = pcd1.voxel_down_sample(voxel_size=2) # Downsampling\n",
    "    pcd = pcd + downpcd\n",
    "    \n",
    "    \n",
    "downpcd1 = pcd.voxel_down_sample(voxel_size=10)   # Downsampling \n",
    "o3d.visualization.draw_geometries([pcd])\n",
    "o3d.io.write_point_cloud(\"../../Data/Results/2_1/final_pcd.pcd\", pcd)"
   ]
  },
  {
   "cell_type": "code",
   "execution_count": null,
   "metadata": {},
   "outputs": [],
   "source": []
  }
 ],
 "metadata": {
  "kernelspec": {
   "display_name": "Python 3",
   "language": "python",
   "name": "python3"
  },
  "language_info": {
   "codemirror_mode": {
    "name": "ipython",
    "version": 3
   },
   "file_extension": ".py",
   "mimetype": "text/x-python",
   "name": "python",
   "nbconvert_exporter": "python",
   "pygments_lexer": "ipython3",
   "version": "3.8.5"
  }
 },
 "nbformat": 4,
 "nbformat_minor": 4
}
