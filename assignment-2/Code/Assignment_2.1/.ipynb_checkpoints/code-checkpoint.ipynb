{
 "cells": [
  {
   "cell_type": "code",
   "execution_count": 1,
   "metadata": {},
   "outputs": [],
   "source": [
    "import numpy as np \n",
    "from os import listdir\n",
    "from os.path import isfile, join\n",
    "import open3d as o3d"
   ]
  },
  {
   "cell_type": "code",
   "execution_count": 28,
   "metadata": {},
   "outputs": [],
   "source": [
    "def readData(filename):\n",
    "    \n",
    "    \"\"\"\n",
    "    reads the ground truth file \n",
    "    returns a 2D array with each \n",
    "    row as GT pose(arranged row major form)\n",
    "    array size should be 1101*12\n",
    "    \"\"\"\n",
    "    data = np.loadtxt(filename)\n",
    "#     print(data)\n",
    "    #data[i].reshape(3,4)\n",
    "    return data \n",
    "\n",
    "\n",
    "def readPointCloud(filename):\n",
    "    \"\"\"\n",
    "    reads bin file and returns\n",
    "    as m*4 np array\n",
    "    all points are in meters\n",
    "    you can filter out points beyond(in x y plane)\n",
    "    50m for ease of computation\n",
    "    and above or below 10m\n",
    "    \"\"\"\n",
    "    pcl = np.fromfile(filename, dtype=np.float32,count=-1)\n",
    "#     print(pcl)\n",
    "#     print(pcl.shape)\n",
    "    pcl = pcl.reshape([-1,4])\n",
    "#     print(pcl.shape)\n",
    "    return pcl "
   ]
  },
  {
   "cell_type": "code",
   "execution_count": 29,
   "metadata": {},
   "outputs": [
    {
     "name": "stdout",
     "output_type": "stream",
     "text": [
      "[[52.32214   78.84611   78.789085  ...  3.7904453  3.8050025  3.8457696]\n",
      " [ 5.757029  12.753925  13.001526  ... -1.4226211 -1.4145807 -1.4236419]\n",
      " [ 1.9878117  2.9062185  2.9051187 ... -1.7468927 -1.7519001 -1.7709005]\n",
      " [ 1.         1.         1.        ...  1.         1.         1.       ]]\n"
     ]
    }
   ],
   "source": [
    "\n",
    "## Reading the Transformation Matrix\n",
    "global_trans = readData(\"./dataset/01.txt\") # Takes the global poses and converts it into a 2D matrix\n",
    "#print(global_trans.shape)\n",
    "\n",
    "## Reading the PCDs\n",
    "mypath='./dataset/01/'\n",
    "onlyfiles = [f for f in listdir(mypath) if isfile(join(mypath, f))]\n",
    "onlyfiles=sorted(onlyfiles)\n",
    "# print(onlyfiles)\n",
    "\n",
    "read_pc = []\n",
    "\n",
    "for f in onlyfiles:\n",
    "    temp= readPointCloud(mypath+f)\n",
    "    x = np.ones(temp.shape[0])\n",
    "#     print(x.shape)\n",
    "    temp[:,3] = x\n",
    "    temp1=temp.T\n",
    "    read_pc.append(temp1)\n",
    "    \n",
    "   \n",
    "print(read_pc[0])\n",
    "\n"
   ]
  },
  {
   "cell_type": "code",
   "execution_count": 31,
   "metadata": {},
   "outputs": [],
   "source": [
    "## Lidar to  Camera Transformation\n",
    "cam_trans = np.array([[0,-1,0,0],[0,0,-1,0],[1,0,0,0],[0,0,0,1]])\n",
    "back_trans = np.array([[0,0,1],[-1,0,0],[0,-1,0]])\n",
    "#cam_trans = np.array([[1,0,0,0],[0,1,0,0],[0,0,1,0],[0,0,0,1]])\n",
    "#print(cam_trans.shape)\n",
    "\n",
    "## Downsample the points \n",
    "\n",
    "\n",
    "## Final set of points\n",
    "\n",
    "final=[]\n",
    "\n",
    "for i in range(77):\n",
    "    final.append(back_trans@(np.resize(global_trans[i],(3,4))@cam_trans@read_pc[i]))\n",
    "#     print(final[i])\n",
    "    #print(cam_trans@read_pc[i])\n",
    "    \n",
    "#final[76].shape\n",
    "\n",
    "##----------- End------- ##"
   ]
  },
  {
   "cell_type": "code",
   "execution_count": 32,
   "metadata": {},
   "outputs": [
    {
     "name": "stdout",
     "output_type": "stream",
     "text": [
      "(9413461, 3)\n"
     ]
    }
   ],
   "source": [
    "## Forming the Point clouds in Open 3d using list 'final'\n",
    "#print(final[0].T)\n",
    "plot = final[0].T \n",
    "#plot = np.vstack((final[0].T,final[1].T))\n",
    "for i in range(76):\n",
    "    plot = np.vstack((plot,final[i+1].T))\n",
    "print(plot.shape)\n",
    "#pcd = o3d.geometry.PointCloud()\n",
    "#pcd.points = o3d.utility.Vector3dVector(plot)\n",
    "#o3d.visualization.draw_geometries([pcd])"
   ]
  },
  {
   "cell_type": "code",
   "execution_count": 38,
   "metadata": {},
   "outputs": [],
   "source": [
    "\n",
    "pcd = o3d.geometry.PointCloud()\n",
    "pcd.points = o3d.utility.Vector3dVector(plot)\n",
    "#downpcd = pcd.voxel_down_sample(voxel_size=2)\n",
    "# pcd_box = pcd.sample_points_uniformly(number_of_points=25000)\n",
    "# downpcd = pcd.voxel_down_sample(voxel_size=0.0005)\n",
    "o3d.visualization.draw_geometries([pcd])\n",
    "#o3d.visualization.draw_geometries([downpcd])"
   ]
  },
  {
   "cell_type": "code",
   "execution_count": 40,
   "metadata": {},
   "outputs": [],
   "source": [
    "pcd = o3d.geometry.PointCloud()\n",
    "#pcd.points = o3d.utility.Vector3dVector(final[0].T)\n",
    "\n",
    "for i in range(76):\n",
    "    #plot = np.vstack((plot,final[i+1].T))\n",
    "    pcd1 = o3d.geometry.PointCloud()\n",
    "    pcd1.points = o3d.utility.Vector3dVector(final[i].T)\n",
    "    downpcd = pcd1.voxel_down_sample(voxel_size=0.05)\n",
    "    pcd = pcd + downpcd\n",
    "    \n",
    "    \n",
    "downpcd1 = pcd.voxel_down_sample(voxel_size=10)    \n",
    "o3d.visualization.draw_geometries([pcd])"
   ]
  },
  {
   "cell_type": "code",
   "execution_count": 33,
   "metadata": {},
   "outputs": [
    {
     "ename": "AxisError",
     "evalue": "axis 3 is out of bounds for array of dimension 2",
     "output_type": "error",
     "traceback": [
      "\u001b[0;31m---------------------------------------------------------------------------\u001b[0m",
      "\u001b[0;31mAxisError\u001b[0m                                 Traceback (most recent call last)",
      "\u001b[0;32m<ipython-input-33-be1f6c9d2ea5>\u001b[0m in \u001b[0;36m<module>\u001b[0;34m\u001b[0m\n\u001b[1;32m     42\u001b[0m \u001b[0mx\u001b[0m \u001b[0;34m=\u001b[0m \u001b[0mnumpy\u001b[0m\u001b[0;34m.\u001b[0m\u001b[0marray\u001b[0m\u001b[0;34m(\u001b[0m\u001b[0;34m[\u001b[0m\u001b[0;34m[\u001b[0m\u001b[0;36m1\u001b[0m\u001b[0;34m,\u001b[0m \u001b[0;36m2\u001b[0m\u001b[0;34m,\u001b[0m \u001b[0;36m3\u001b[0m\u001b[0;34m]\u001b[0m\u001b[0;34m,\u001b[0m \u001b[0;34m[\u001b[0m\u001b[0;36m4\u001b[0m\u001b[0;34m,\u001b[0m \u001b[0;36m5\u001b[0m\u001b[0;34m,\u001b[0m \u001b[0;36m6\u001b[0m\u001b[0;34m]\u001b[0m\u001b[0;34m]\u001b[0m\u001b[0;34m)\u001b[0m\u001b[0;34m\u001b[0m\u001b[0;34m\u001b[0m\u001b[0m\n\u001b[1;32m     43\u001b[0m \u001b[0;34m\u001b[0m\u001b[0m\n\u001b[0;32m---> 44\u001b[0;31m \u001b[0mnumpy\u001b[0m\u001b[0;34m.\u001b[0m\u001b[0mmean\u001b[0m\u001b[0;34m(\u001b[0m\u001b[0mx\u001b[0m\u001b[0;34m.\u001b[0m\u001b[0mreshape\u001b[0m\u001b[0;34m(\u001b[0m\u001b[0;34m-\u001b[0m\u001b[0;36m1\u001b[0m\u001b[0;34m,\u001b[0m \u001b[0;36m2\u001b[0m\u001b[0;34m)\u001b[0m\u001b[0;34m,\u001b[0m \u001b[0;36m3\u001b[0m\u001b[0;34m)\u001b[0m \u001b[0;31m# Prints array([ 1.5,  3.5,  5.5])\u001b[0m\u001b[0;34m\u001b[0m\u001b[0;34m\u001b[0m\u001b[0m\n\u001b[0m",
      "\u001b[0;32m<__array_function__ internals>\u001b[0m in \u001b[0;36mmean\u001b[0;34m(*args, **kwargs)\u001b[0m\n",
      "\u001b[0;32m~/anaconda3/envs/mr_assignment1/lib/python3.7/site-packages/numpy/core/fromnumeric.py\u001b[0m in \u001b[0;36mmean\u001b[0;34m(a, axis, dtype, out, keepdims)\u001b[0m\n\u001b[1;32m   3371\u001b[0m \u001b[0;34m\u001b[0m\u001b[0m\n\u001b[1;32m   3372\u001b[0m     return _methods._mean(a, axis=axis, dtype=dtype,\n\u001b[0;32m-> 3373\u001b[0;31m                           out=out, **kwargs)\n\u001b[0m\u001b[1;32m   3374\u001b[0m \u001b[0;34m\u001b[0m\u001b[0m\n\u001b[1;32m   3375\u001b[0m \u001b[0;34m\u001b[0m\u001b[0m\n",
      "\u001b[0;32m~/anaconda3/envs/mr_assignment1/lib/python3.7/site-packages/numpy/core/_methods.py\u001b[0m in \u001b[0;36m_mean\u001b[0;34m(a, axis, dtype, out, keepdims)\u001b[0m\n\u001b[1;32m    145\u001b[0m \u001b[0;34m\u001b[0m\u001b[0m\n\u001b[1;32m    146\u001b[0m     \u001b[0mis_float16_result\u001b[0m \u001b[0;34m=\u001b[0m \u001b[0;32mFalse\u001b[0m\u001b[0;34m\u001b[0m\u001b[0;34m\u001b[0m\u001b[0m\n\u001b[0;32m--> 147\u001b[0;31m     \u001b[0mrcount\u001b[0m \u001b[0;34m=\u001b[0m \u001b[0m_count_reduce_items\u001b[0m\u001b[0;34m(\u001b[0m\u001b[0marr\u001b[0m\u001b[0;34m,\u001b[0m \u001b[0maxis\u001b[0m\u001b[0;34m)\u001b[0m\u001b[0;34m\u001b[0m\u001b[0;34m\u001b[0m\u001b[0m\n\u001b[0m\u001b[1;32m    148\u001b[0m     \u001b[0;31m# Make this warning show up first\u001b[0m\u001b[0;34m\u001b[0m\u001b[0;34m\u001b[0m\u001b[0;34m\u001b[0m\u001b[0m\n\u001b[1;32m    149\u001b[0m     \u001b[0;32mif\u001b[0m \u001b[0mrcount\u001b[0m \u001b[0;34m==\u001b[0m \u001b[0;36m0\u001b[0m\u001b[0;34m:\u001b[0m\u001b[0;34m\u001b[0m\u001b[0;34m\u001b[0m\u001b[0m\n",
      "\u001b[0;32m~/anaconda3/envs/mr_assignment1/lib/python3.7/site-packages/numpy/core/_methods.py\u001b[0m in \u001b[0;36m_count_reduce_items\u001b[0;34m(arr, axis)\u001b[0m\n\u001b[1;32m     64\u001b[0m     \u001b[0mitems\u001b[0m \u001b[0;34m=\u001b[0m \u001b[0;36m1\u001b[0m\u001b[0;34m\u001b[0m\u001b[0;34m\u001b[0m\u001b[0m\n\u001b[1;32m     65\u001b[0m     \u001b[0;32mfor\u001b[0m \u001b[0max\u001b[0m \u001b[0;32min\u001b[0m \u001b[0maxis\u001b[0m\u001b[0;34m:\u001b[0m\u001b[0;34m\u001b[0m\u001b[0;34m\u001b[0m\u001b[0m\n\u001b[0;32m---> 66\u001b[0;31m         \u001b[0mitems\u001b[0m \u001b[0;34m*=\u001b[0m \u001b[0marr\u001b[0m\u001b[0;34m.\u001b[0m\u001b[0mshape\u001b[0m\u001b[0;34m[\u001b[0m\u001b[0mmu\u001b[0m\u001b[0;34m.\u001b[0m\u001b[0mnormalize_axis_index\u001b[0m\u001b[0;34m(\u001b[0m\u001b[0max\u001b[0m\u001b[0;34m,\u001b[0m \u001b[0marr\u001b[0m\u001b[0;34m.\u001b[0m\u001b[0mndim\u001b[0m\u001b[0;34m)\u001b[0m\u001b[0;34m]\u001b[0m\u001b[0;34m\u001b[0m\u001b[0;34m\u001b[0m\u001b[0m\n\u001b[0m\u001b[1;32m     67\u001b[0m     \u001b[0;32mreturn\u001b[0m \u001b[0mitems\u001b[0m\u001b[0;34m\u001b[0m\u001b[0;34m\u001b[0m\u001b[0m\n\u001b[1;32m     68\u001b[0m \u001b[0;34m\u001b[0m\u001b[0m\n",
      "\u001b[0;31mAxisError\u001b[0m: axis 3 is out of bounds for array of dimension 2"
     ]
    }
   ],
   "source": [
    "## Testing space\n",
    "# https://www.tutorialspoint.com/How-to-list-down-all-the-files-alphabetically-using-Python\n",
    "# https://www.w3resource.com/numpy/manipulation/resize.php\n",
    "# https://stackoverflow.com/questions/8486294/how-to-add-an-extra-column-to-a-numpy-array\n",
    "# https://stackoverflow.com/questions/34231244/downsampling-a-2d-numpy-array-in-python/34232507\n",
    "#https://realpython.com/working-with-files-in-python/\n",
    "\"\"\"\n",
    "#print(onlyfiles)\n",
    "#print(mypath+str(00000)+'.bin')\n",
    "#print(glob.glob(\"./dataset/01/*.bin\"))\n",
    "\n",
    "    #read_pc.append(readPointCloud(mypath+f).T)\n",
    "    #print(temp.shape[1])\n",
    "    #r = np.array(read_pc) \n",
    "import numpy as np\n",
    "a=np.arange(0,16).reshape(4,4)\n",
    "dc=a[:,range(0,a.shape[1]-1,1)] ## for decreasing the size of matrix \n",
    "drdc=dc[range(0,a.shape[0],1),:]\n",
    "print(a)\n",
    "print(dc)\n",
    "print(drdc)\n",
    "# a[:,1] = x for changing a row\n",
    "# adding row\n",
    "import numpy as np\n",
    "N = 2\n",
    "a = np.random.rand(N,N)\n",
    "b = np.zeros((N,N+1))\n",
    "b[:,:-1] = a\n",
    "\n",
    "print(a)\n",
    "print(b)\n",
    "\n",
    "print(np.resize(global_trans[0],(3,4)))\n",
    "#print(global_trans[0])\n",
    "print(read_pc[0].shape)\n",
    "print(cam_trans@read_pc[0])\n",
    "#print(np.resize(global_trans[0],(3,4))@cam_trans@read_pc[0])\n",
    "\n",
    "\"\"\"\n",
    "import numpy\n",
    "\n",
    "x = numpy.array([[1, 2, 3], [4, 5, 6]])\n",
    "\n",
    "numpy.mean(x.reshape(-1, 2), 3) # Prints array([ 1.5,  3.5,  5.5])"
   ]
  },
  {
   "cell_type": "code",
   "execution_count": null,
   "metadata": {},
   "outputs": [],
   "source": []
  }
 ],
 "metadata": {
  "kernelspec": {
   "display_name": "Python 3",
   "language": "python",
   "name": "python3"
  },
  "language_info": {
   "codemirror_mode": {
    "name": "ipython",
    "version": 3
   },
   "file_extension": ".py",
   "mimetype": "text/x-python",
   "name": "python",
   "nbconvert_exporter": "python",
   "pygments_lexer": "ipython3",
   "version": "3.8.5"
  }
 },
 "nbformat": 4,
 "nbformat_minor": 4
}
